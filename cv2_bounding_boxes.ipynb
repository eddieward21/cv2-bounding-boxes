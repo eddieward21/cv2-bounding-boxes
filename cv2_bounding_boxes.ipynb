{
  "metadata": {
    "kernelspec": {
      "language": "python",
      "display_name": "Python 3",
      "name": "python3"
    },
    "language_info": {
      "name": "python",
      "version": "3.7.12",
      "mimetype": "text/x-python",
      "codemirror_mode": {
        "name": "ipython",
        "version": 3
      },
      "pygments_lexer": "ipython3",
      "nbconvert_exporter": "python",
      "file_extension": ".py"
    },
    "kaggle": {
      "accelerator": "none",
      "dataSources": [
        {
          "sourceId": 3731962,
          "sourceType": "datasetVersion",
          "datasetId": 2231353
        }
      ],
      "dockerImageVersionId": 30197,
      "isInternetEnabled": false,
      "language": "python",
      "sourceType": "notebook",
      "isGpuEnabled": false
    },
    "colab": {
      "provenance": [],
      "include_colab_link": true
    }
  },
  "nbformat_minor": 0,
  "nbformat": 4,
  "cells": [
    {
      "cell_type": "markdown",
      "metadata": {
        "id": "view-in-github",
        "colab_type": "text"
      },
      "source": [
        "<a href=\"https://colab.research.google.com/github/eddieward21/cv2-bounding-boxes/blob/main/cv2_bounding_boxes.ipynb\" target=\"_parent\"><img src=\"https://colab.research.google.com/assets/colab-badge.svg\" alt=\"Open In Colab\"/></a>"
      ]
    },
    {
      "cell_type": "code",
      "source": [
        "import pandas as pd\n",
        "import numpy as np\n",
        "import cv2\n",
        "import matplotlib.pyplot as plt\n",
        "\n",
        "from glob import glob\n",
        "\n",
        "import IPython.display as ipd\n",
        "from tqdm import tqdm\n",
        "\n",
        "import subprocess\n",
        "\n",
        "plt.style.use('ggplot')"
      ],
      "metadata": {
        "execution": {
          "iopub.status.busy": "2023-11-26T18:32:03.667466Z",
          "iopub.execute_input": "2023-11-26T18:32:03.668288Z",
          "iopub.status.idle": "2023-11-26T18:32:03.904074Z",
          "shell.execute_reply.started": "2023-11-26T18:32:03.668186Z",
          "shell.execute_reply": "2023-11-26T18:32:03.903154Z"
        },
        "trusted": true,
        "id": "SFuFq5xh8kCf"
      },
      "execution_count": null,
      "outputs": []
    },
    {
      "cell_type": "markdown",
      "source": [
        "# Converting video types\n",
        "Use ffmpeg to convert mov to mp4. Read more in the documentation here: https://ffmpeg.org/ffmpeg.html"
      ],
      "metadata": {
        "id": "iutTLiDJ8kCj"
      }
    },
    {
      "cell_type": "code",
      "source": [
        "input_file = '../input/driving-video-with-object-tracking/bdd100k_videos_train_00/bdd100k/videos/train/026c7465-309f6d33.mov'\n",
        "subprocess.run(['ffmpeg',\n",
        "                '-i',\n",
        "                input_file,\n",
        "                '-qscale',\n",
        "                '0',\n",
        "                '026c7465-309f6d33.mp4',\n",
        "                '-loglevel',\n",
        "                'quiet']\n",
        "              )"
      ],
      "metadata": {
        "execution": {
          "iopub.status.busy": "2023-11-26T18:32:03.906154Z",
          "iopub.execute_input": "2023-11-26T18:32:03.906635Z",
          "iopub.status.idle": "2023-11-26T18:33:02.390576Z",
          "shell.execute_reply.started": "2023-11-26T18:32:03.906590Z",
          "shell.execute_reply": "2023-11-26T18:33:02.389217Z"
        },
        "trusted": true,
        "id": "WX2jHrkx8kCk"
      },
      "execution_count": null,
      "outputs": []
    },
    {
      "cell_type": "code",
      "source": [
        "!ls -GFlash --color"
      ],
      "metadata": {
        "execution": {
          "iopub.status.busy": "2023-11-26T18:33:02.392422Z",
          "iopub.execute_input": "2023-11-26T18:33:02.392832Z",
          "iopub.status.idle": "2023-11-26T18:33:03.514531Z",
          "shell.execute_reply.started": "2023-11-26T18:33:02.392775Z",
          "shell.execute_reply": "2023-11-26T18:33:03.513057Z"
        },
        "trusted": true,
        "id": "r9_4etIt8kCl"
      },
      "execution_count": null,
      "outputs": []
    },
    {
      "cell_type": "markdown",
      "source": [
        "# Display Video in Notebook"
      ],
      "metadata": {
        "id": "tLpL705-8kCl"
      }
    },
    {
      "cell_type": "code",
      "source": [
        "ipd.Video('026c7465-309f6d33.mp4', width=700)"
      ],
      "metadata": {
        "execution": {
          "iopub.status.busy": "2023-11-26T18:33:03.518045Z",
          "iopub.execute_input": "2023-11-26T18:33:03.518633Z",
          "iopub.status.idle": "2023-11-26T18:33:03.526980Z",
          "shell.execute_reply.started": "2023-11-26T18:33:03.518577Z",
          "shell.execute_reply": "2023-11-26T18:33:03.525775Z"
        },
        "trusted": true,
        "id": "VsYOu--78kCm"
      },
      "execution_count": null,
      "outputs": []
    },
    {
      "cell_type": "markdown",
      "source": [
        "# Open the Video and Read Metadata"
      ],
      "metadata": {
        "id": "mVXBTZv48kCm"
      }
    },
    {
      "cell_type": "code",
      "source": [
        "# Load in video capture\n",
        "cap = cv2.VideoCapture('026c7465-309f6d33.mp4')"
      ],
      "metadata": {
        "execution": {
          "iopub.status.busy": "2023-11-26T18:33:03.528529Z",
          "iopub.execute_input": "2023-11-26T18:33:03.529351Z",
          "iopub.status.idle": "2023-11-26T18:33:03.624426Z",
          "shell.execute_reply.started": "2023-11-26T18:33:03.529303Z",
          "shell.execute_reply": "2023-11-26T18:33:03.623440Z"
        },
        "trusted": true,
        "id": "kwyF48TM8kCm"
      },
      "execution_count": null,
      "outputs": []
    },
    {
      "cell_type": "code",
      "source": [
        "# Total number of frames in video\n",
        "cap.get(cv2.cv2.CAP_PROP_FRAME_COUNT)"
      ],
      "metadata": {
        "execution": {
          "iopub.status.busy": "2023-11-26T18:33:03.629043Z",
          "iopub.execute_input": "2023-11-26T18:33:03.630598Z",
          "iopub.status.idle": "2023-11-26T18:33:03.639261Z",
          "shell.execute_reply.started": "2023-11-26T18:33:03.630538Z",
          "shell.execute_reply": "2023-11-26T18:33:03.638174Z"
        },
        "trusted": true,
        "id": "ca8htRNq8kCn"
      },
      "execution_count": null,
      "outputs": []
    },
    {
      "cell_type": "code",
      "source": [
        "# Video height and width\n",
        "height = cap.get(cv2.cv2.CAP_PROP_FRAME_HEIGHT)\n",
        "width = cap.get(cv2.cv2.CAP_PROP_FRAME_WIDTH)\n",
        "print(f'Height {height}, Width {width}')"
      ],
      "metadata": {
        "execution": {
          "iopub.status.busy": "2023-11-26T18:33:03.640495Z",
          "iopub.execute_input": "2023-11-26T18:33:03.641374Z",
          "iopub.status.idle": "2023-11-26T18:33:03.649085Z",
          "shell.execute_reply.started": "2023-11-26T18:33:03.641337Z",
          "shell.execute_reply": "2023-11-26T18:33:03.647802Z"
        },
        "trusted": true,
        "id": "ORLzzsTl8kCn"
      },
      "execution_count": null,
      "outputs": []
    },
    {
      "cell_type": "code",
      "source": [
        "# Get frames per second\n",
        "fps = cap.get(cv2.cv2.CAP_PROP_FPS)\n",
        "print(f'FPS : {fps:0.2f}')"
      ],
      "metadata": {
        "execution": {
          "iopub.status.busy": "2023-11-26T18:33:03.650850Z",
          "iopub.execute_input": "2023-11-26T18:33:03.651329Z",
          "iopub.status.idle": "2023-11-26T18:33:03.659067Z",
          "shell.execute_reply.started": "2023-11-26T18:33:03.651292Z",
          "shell.execute_reply": "2023-11-26T18:33:03.658295Z"
        },
        "trusted": true,
        "id": "b8pxelAj8kCo"
      },
      "execution_count": null,
      "outputs": []
    },
    {
      "cell_type": "code",
      "source": [
        "cap.release()"
      ],
      "metadata": {
        "execution": {
          "iopub.status.busy": "2023-11-26T18:33:03.660364Z",
          "iopub.execute_input": "2023-11-26T18:33:03.661280Z",
          "iopub.status.idle": "2023-11-26T18:33:03.669554Z",
          "shell.execute_reply.started": "2023-11-26T18:33:03.661240Z",
          "shell.execute_reply": "2023-11-26T18:33:03.668405Z"
        },
        "trusted": true,
        "id": "68UneGMU8kCo"
      },
      "execution_count": null,
      "outputs": []
    },
    {
      "cell_type": "markdown",
      "source": [
        "# Pulling in Images from Video"
      ],
      "metadata": {
        "id": "RcXIBHfs8kCo"
      }
    },
    {
      "cell_type": "code",
      "source": [
        "cap = cv2.VideoCapture('026c7465-309f6d33.mp4')\n",
        "ret, img = cap.read()\n",
        "print(f'Returned {ret} and img of shape {img.shape}')"
      ],
      "metadata": {
        "execution": {
          "iopub.status.busy": "2023-11-26T18:33:03.673171Z",
          "iopub.execute_input": "2023-11-26T18:33:03.673591Z",
          "iopub.status.idle": "2023-11-26T18:33:03.739846Z",
          "shell.execute_reply.started": "2023-11-26T18:33:03.673556Z",
          "shell.execute_reply": "2023-11-26T18:33:03.739016Z"
        },
        "trusted": true,
        "id": "y8tvi1m78kCo"
      },
      "execution_count": null,
      "outputs": []
    },
    {
      "cell_type": "code",
      "source": [
        "## Helper function for plotting opencv images in notebook\n",
        "def display_cv2_img(img, figsize=(10, 10)):\n",
        "    img_ = cv2.cvtColor(img, cv2.COLOR_BGR2RGB)\n",
        "    fig, ax = plt.subplots(figsize=figsize)\n",
        "    ax.imshow(img_)\n",
        "    ax.axis(\"off\")"
      ],
      "metadata": {
        "execution": {
          "iopub.status.busy": "2023-11-26T18:33:03.741159Z",
          "iopub.execute_input": "2023-11-26T18:33:03.741738Z",
          "iopub.status.idle": "2023-11-26T18:33:03.748487Z",
          "shell.execute_reply.started": "2023-11-26T18:33:03.741703Z",
          "shell.execute_reply": "2023-11-26T18:33:03.747192Z"
        },
        "trusted": true,
        "id": "q4DI5VqT8kCo"
      },
      "execution_count": null,
      "outputs": []
    },
    {
      "cell_type": "code",
      "source": [
        "display_cv2_img(img)"
      ],
      "metadata": {
        "execution": {
          "iopub.status.busy": "2023-11-26T18:33:03.749801Z",
          "iopub.execute_input": "2023-11-26T18:33:03.750250Z",
          "iopub.status.idle": "2023-11-26T18:33:04.164340Z",
          "shell.execute_reply.started": "2023-11-26T18:33:03.750213Z",
          "shell.execute_reply": "2023-11-26T18:33:04.163323Z"
        },
        "trusted": true,
        "id": "GLISBiLk8kCo"
      },
      "execution_count": null,
      "outputs": []
    },
    {
      "cell_type": "code",
      "source": [
        "cap.release()"
      ],
      "metadata": {
        "execution": {
          "iopub.status.busy": "2023-11-26T18:33:04.165604Z",
          "iopub.execute_input": "2023-11-26T18:33:04.166127Z",
          "iopub.status.idle": "2023-11-26T18:33:04.171084Z",
          "shell.execute_reply.started": "2023-11-26T18:33:04.166080Z",
          "shell.execute_reply": "2023-11-26T18:33:04.170070Z"
        },
        "trusted": true,
        "id": "-6EhrApZ8kCp"
      },
      "execution_count": null,
      "outputs": []
    },
    {
      "cell_type": "markdown",
      "source": [
        "# Display multiple frames from the video"
      ],
      "metadata": {
        "id": "oHHGqubO8kCp"
      }
    },
    {
      "cell_type": "code",
      "source": [
        "fig, axs = plt.subplots(5, 5, figsize=(30, 20))\n",
        "axs = axs.flatten()\n",
        "\n",
        "cap = cv2.VideoCapture(\"026c7465-309f6d33.mp4\")\n",
        "n_frames = int(cap.get(cv2.cv2.CAP_PROP_FRAME_COUNT))\n",
        "\n",
        "img_idx = 0\n",
        "for frame in range(n_frames):\n",
        "    ret, img = cap.read()\n",
        "    if ret == False:\n",
        "        break\n",
        "    if frame % 100 == 0:\n",
        "        axs[img_idx].imshow(cv2.cvtColor(img, cv2.COLOR_BGR2RGB))\n",
        "        axs[img_idx].set_title(f'Frame: {frame}')\n",
        "        axs[img_idx].axis('off')\n",
        "        img_idx += 1\n",
        "\n",
        "plt.tight_layout()\n",
        "plt.show()\n",
        "cap.release()"
      ],
      "metadata": {
        "execution": {
          "iopub.status.busy": "2023-11-26T18:33:04.172957Z",
          "iopub.execute_input": "2023-11-26T18:33:04.173538Z",
          "iopub.status.idle": "2023-11-26T18:33:16.062335Z",
          "shell.execute_reply.started": "2023-11-26T18:33:04.173486Z",
          "shell.execute_reply": "2023-11-26T18:33:16.060709Z"
        },
        "trusted": true,
        "id": "MIwP7Z2z8kCp"
      },
      "execution_count": null,
      "outputs": []
    },
    {
      "cell_type": "markdown",
      "source": [
        "# Add Annotations to Video Images"
      ],
      "metadata": {
        "id": "Wy96Sonf8kCp"
      }
    },
    {
      "cell_type": "code",
      "source": [
        "labels = pd.read_csv('../input/driving-video-with-object-tracking/mot_labels.csv',\n",
        "                     low_memory=False)\n",
        "video_labels = (\n",
        "    labels.query('videoName == \"026c7465-309f6d33\"').reset_index(drop=True).copy()\n",
        ")\n",
        "video_labels[\"video_frame\"] = (video_labels[\"frameIndex\"] * 11.9).round().astype(\"int\")"
      ],
      "metadata": {
        "execution": {
          "iopub.status.busy": "2023-11-26T18:33:16.064175Z",
          "iopub.execute_input": "2023-11-26T18:33:16.064615Z",
          "iopub.status.idle": "2023-11-26T18:33:27.839908Z",
          "shell.execute_reply.started": "2023-11-26T18:33:16.064576Z",
          "shell.execute_reply": "2023-11-26T18:33:27.838677Z"
        },
        "trusted": true,
        "id": "8cO2fuSD8kCp"
      },
      "execution_count": null,
      "outputs": []
    },
    {
      "cell_type": "code",
      "source": [
        "video_labels[\"category\"].value_counts()"
      ],
      "metadata": {
        "execution": {
          "iopub.status.busy": "2023-11-26T18:33:27.841692Z",
          "iopub.execute_input": "2023-11-26T18:33:27.842221Z",
          "iopub.status.idle": "2023-11-26T18:33:27.852378Z",
          "shell.execute_reply.started": "2023-11-26T18:33:27.842171Z",
          "shell.execute_reply": "2023-11-26T18:33:27.851363Z"
        },
        "trusted": true,
        "id": "eDDp_rkp8kCp"
      },
      "execution_count": null,
      "outputs": []
    },
    {
      "cell_type": "code",
      "source": [
        "# Pull frame 1035\n",
        "\n",
        "cap = cv2.VideoCapture(\"026c7465-309f6d33.mp4\")\n",
        "n_frames = int(cap.get(cv2.cv2.CAP_PROP_FRAME_COUNT))\n",
        "\n",
        "img_idx = 0\n",
        "for frame in range(n_frames):\n",
        "    ret, img = cap.read()\n",
        "    if ret == False:\n",
        "        break\n",
        "    if frame == 1035:\n",
        "        break\n",
        "cap.release()"
      ],
      "metadata": {
        "execution": {
          "iopub.status.busy": "2023-11-26T18:33:27.853894Z",
          "iopub.execute_input": "2023-11-26T18:33:27.854756Z",
          "iopub.status.idle": "2023-11-26T18:33:30.695594Z",
          "shell.execute_reply.started": "2023-11-26T18:33:27.854716Z",
          "shell.execute_reply": "2023-11-26T18:33:30.694498Z"
        },
        "trusted": true,
        "id": "KJVav1_o8kCp"
      },
      "execution_count": null,
      "outputs": []
    },
    {
      "cell_type": "code",
      "source": [
        "display_cv2_img(img)"
      ],
      "metadata": {
        "execution": {
          "iopub.status.busy": "2023-11-26T18:33:30.697220Z",
          "iopub.execute_input": "2023-11-26T18:33:30.697598Z",
          "iopub.status.idle": "2023-11-26T18:33:31.049311Z",
          "shell.execute_reply.started": "2023-11-26T18:33:30.697566Z",
          "shell.execute_reply": "2023-11-26T18:33:31.048285Z"
        },
        "trusted": true,
        "id": "j_d0WNDW8kCp"
      },
      "execution_count": null,
      "outputs": []
    },
    {
      "cell_type": "code",
      "source": [
        "img_example = img.copy()\n",
        "frame_labels = video_labels.query('video_frame == 1035')\n",
        "for i, d in frame_labels.iterrows():\n",
        "    pt1 = int(d['box2d.x1']), int(d['box2d.y1'])\n",
        "    pt2 = int(d['box2d.x2']), int(d['box2d.y2'])\n",
        "    cv2.rectangle(img_example, pt1, pt2, (0, 0, 255), 3)\n",
        "\n",
        "display_cv2_img(img_example)"
      ],
      "metadata": {
        "execution": {
          "iopub.status.busy": "2023-11-26T18:33:31.050831Z",
          "iopub.execute_input": "2023-11-26T18:33:31.051230Z",
          "iopub.status.idle": "2023-11-26T18:33:31.422241Z",
          "shell.execute_reply.started": "2023-11-26T18:33:31.051197Z",
          "shell.execute_reply": "2023-11-26T18:33:31.420894Z"
        },
        "trusted": true,
        "id": "KjiFI6CO8kCp"
      },
      "execution_count": null,
      "outputs": []
    },
    {
      "cell_type": "markdown",
      "source": [
        "# Displaying Colored by Category"
      ],
      "metadata": {
        "id": "nIE9Pr978kCp"
      }
    },
    {
      "cell_type": "code",
      "source": [
        "color_map = {\n",
        "    \"car\": (0, 0, 255),\n",
        "    \"truck\": (0, 0, 100),\n",
        "    \"pedestrian\": (255, 0, 0),\n",
        "    \"other vehicle\": (0, 0, 150),\n",
        "    \"rider\": (200, 0, 0),\n",
        "    \"bicycle\": (0, 255, 0),\n",
        "    \"other person\": (200, 0, 0),\n",
        "    \"trailer\": (0, 150, 150),\n",
        "    \"motorcycle\": (0, 150, 0),\n",
        "    \"bus\": (0, 0, 100),\n",
        "}\n",
        "\n",
        "img_example = img.copy()\n",
        "frame_labels = video_labels.query('video_frame == 1035')\n",
        "for i, d in frame_labels.iterrows():\n",
        "    pt1 = int(d['box2d.x1']), int(d['box2d.y1'])\n",
        "    pt2 = int(d['box2d.x2']), int(d['box2d.y2'])\n",
        "    color = color_map[d['category']]\n",
        "    cv2.rectangle(img_example, pt1, pt2, color, 3)\n",
        "\n",
        "display_cv2_img(img_example)"
      ],
      "metadata": {
        "execution": {
          "iopub.status.busy": "2023-11-26T18:33:31.423641Z",
          "iopub.execute_input": "2023-11-26T18:33:31.424677Z",
          "iopub.status.idle": "2023-11-26T18:33:31.790379Z",
          "shell.execute_reply.started": "2023-11-26T18:33:31.424623Z",
          "shell.execute_reply": "2023-11-26T18:33:31.789197Z"
        },
        "trusted": true,
        "id": "Joer7Oa18kCp"
      },
      "execution_count": null,
      "outputs": []
    },
    {
      "cell_type": "markdown",
      "source": [
        "## Adding Text"
      ],
      "metadata": {
        "id": "qxByzk8s8kCq"
      }
    },
    {
      "cell_type": "code",
      "source": [
        "frame_labels = video_labels.query(\"video_frame == @frame\")\n",
        "font = cv2.FONT_HERSHEY_TRIPLEX\n",
        "img_example = img.copy()\n",
        "for i, d in frame_labels.iterrows():\n",
        "    pt1 = int(d[\"box2d.x1\"]), int(d[\"box2d.y1\"])\n",
        "    pt2 = int(d[\"box2d.x2\"]), int(d[\"box2d.y2\"])\n",
        "    color = color_map[d[\"category\"]]\n",
        "    img_example = cv2.rectangle(img_example, pt1, pt2, color, 3)\n",
        "    pt_text = int(d[\"box2d.x1\"]) + 5, int(d[\"box2d.y1\"] + 10)\n",
        "    img_example = cv2.putText(img_example, d[\"category\"], pt_text, font, 0.5, color)\n",
        "display_cv2_img(img_example)\n",
        "cap.release()"
      ],
      "metadata": {
        "execution": {
          "iopub.status.busy": "2023-11-26T18:33:31.792170Z",
          "iopub.execute_input": "2023-11-26T18:33:31.792622Z",
          "iopub.status.idle": "2023-11-26T18:33:32.163075Z",
          "shell.execute_reply.started": "2023-11-26T18:33:31.792586Z",
          "shell.execute_reply": "2023-11-26T18:33:32.162056Z"
        },
        "trusted": true,
        "id": "rCXf0p5u8kCq"
      },
      "execution_count": null,
      "outputs": []
    },
    {
      "cell_type": "markdown",
      "source": [
        "# Label and output Annotated Video"
      ],
      "metadata": {
        "id": "O0WcYOBA8kCq"
      }
    },
    {
      "cell_type": "code",
      "source": [
        "def add_annotations(img, frame, video_labels):\n",
        "    max_frame = video_labels.query(\"video_frame <= @frame\")[\"video_frame\"].max()\n",
        "    frame_labels = video_labels.query(\"video_frame == @max_frame\")\n",
        "    for i, d in frame_labels.iterrows():\n",
        "        pt1 = int(d[\"box2d.x1\"]), int(d[\"box2d.y1\"])\n",
        "        pt2 = int(d[\"box2d.x2\"]), int(d[\"box2d.y2\"])\n",
        "        color = color_map[d[\"category\"]]\n",
        "        img = cv2.rectangle(img, pt1, pt2, color, 3)\n",
        "    return img"
      ],
      "metadata": {
        "execution": {
          "iopub.status.busy": "2023-11-26T18:33:32.164512Z",
          "iopub.execute_input": "2023-11-26T18:33:32.165563Z",
          "iopub.status.idle": "2023-11-26T18:33:32.173740Z",
          "shell.execute_reply.started": "2023-11-26T18:33:32.165520Z",
          "shell.execute_reply": "2023-11-26T18:33:32.172465Z"
        },
        "trusted": true,
        "id": "c3WcL4HN8kCq"
      },
      "execution_count": null,
      "outputs": []
    },
    {
      "cell_type": "code",
      "source": [
        "!rm -r out_test.mp4"
      ],
      "metadata": {
        "execution": {
          "iopub.status.busy": "2023-11-26T18:33:32.175241Z",
          "iopub.execute_input": "2023-11-26T18:33:32.176074Z",
          "iopub.status.idle": "2023-11-26T18:33:33.326864Z",
          "shell.execute_reply.started": "2023-11-26T18:33:32.176036Z",
          "shell.execute_reply": "2023-11-26T18:33:33.325334Z"
        },
        "trusted": true,
        "id": "FOW4PFao8kCq"
      },
      "execution_count": null,
      "outputs": []
    },
    {
      "cell_type": "code",
      "source": [
        "VIDEO_CODEC = \"mp4v\"\n",
        "fps = 59.94\n",
        "width = 1280\n",
        "height = 720\n",
        "out = cv2.VideoWriter(\"out_test.mp4\",\n",
        "                cv2.VideoWriter_fourcc(*VIDEO_CODEC),\n",
        "                fps,\n",
        "                (width, height))\n",
        "\n",
        "cap = cv2.VideoCapture(\"026c7465-309f6d33.mp4\")\n",
        "n_frames = int(cap.get(cv2.cv2.CAP_PROP_FRAME_COUNT))\n",
        "\n",
        "for frame in tqdm(range(n_frames), total=n_frames):\n",
        "    ret, img = cap.read()\n",
        "    if ret == False:\n",
        "        break\n",
        "    img = add_annotations(img, frame, video_labels)\n",
        "    out.write(img)\n",
        "out.release()\n",
        "cap.release()"
      ],
      "metadata": {
        "execution": {
          "iopub.status.busy": "2023-11-26T18:33:33.329455Z",
          "iopub.execute_input": "2023-11-26T18:33:33.329989Z",
          "iopub.status.idle": "2023-11-26T18:34:21.075982Z",
          "shell.execute_reply.started": "2023-11-26T18:33:33.329937Z",
          "shell.execute_reply": "2023-11-26T18:34:21.074376Z"
        },
        "trusted": true,
        "id": "sVKth25n8kCq"
      },
      "execution_count": null,
      "outputs": []
    },
    {
      "cell_type": "code",
      "source": [
        "!ls -GFlash -color"
      ],
      "metadata": {
        "execution": {
          "iopub.status.busy": "2023-11-26T18:34:21.078324Z",
          "iopub.execute_input": "2023-11-26T18:34:21.078921Z",
          "iopub.status.idle": "2023-11-26T18:34:22.204175Z",
          "shell.execute_reply.started": "2023-11-26T18:34:21.078867Z",
          "shell.execute_reply": "2023-11-26T18:34:22.202754Z"
        },
        "trusted": true,
        "id": "o32x8Nds8kCq"
      },
      "execution_count": null,
      "outputs": []
    },
    {
      "cell_type": "markdown",
      "source": [
        "# Convert our labeled output to mp4 and view"
      ],
      "metadata": {
        "id": "RbwVdh3-8kCq"
      }
    },
    {
      "cell_type": "code",
      "source": [
        "tmp_output_path = \"out_test.mp4\"\n",
        "output_path = \"out_test_compressed.mp4\"\n",
        "subprocess.run(\n",
        "    [\n",
        "        \"ffmpeg\",\n",
        "        \"-i\",\n",
        "        tmp_output_path,\n",
        "        \"-crf\",\n",
        "        \"18\",\n",
        "        \"-preset\",\n",
        "        \"veryfast\",\n",
        "        \"-vcodec\",\n",
        "        \"libx264\",\n",
        "        output_path,\n",
        "        '-loglevel',\n",
        "        'quiet'\n",
        "    ]\n",
        ")"
      ],
      "metadata": {
        "execution": {
          "iopub.status.busy": "2023-11-26T18:34:22.206772Z",
          "iopub.execute_input": "2023-11-26T18:34:22.207357Z",
          "iopub.status.idle": "2023-11-26T18:34:46.280550Z",
          "shell.execute_reply.started": "2023-11-26T18:34:22.207301Z",
          "shell.execute_reply": "2023-11-26T18:34:46.278998Z"
        },
        "trusted": true,
        "id": "l044CLwl8kCq"
      },
      "execution_count": null,
      "outputs": []
    },
    {
      "cell_type": "code",
      "source": [
        "!ls -GFlash --color"
      ],
      "metadata": {
        "execution": {
          "iopub.status.busy": "2023-11-26T18:34:46.282844Z",
          "iopub.execute_input": "2023-11-26T18:34:46.283330Z",
          "iopub.status.idle": "2023-11-26T18:34:47.421729Z",
          "shell.execute_reply.started": "2023-11-26T18:34:46.283256Z",
          "shell.execute_reply": "2023-11-26T18:34:47.419925Z"
        },
        "trusted": true,
        "id": "6EccO1Ve8kCq"
      },
      "execution_count": null,
      "outputs": []
    },
    {
      "cell_type": "code",
      "source": [
        "ipd.Video('out_test_compressed.mp4', width=600)"
      ],
      "metadata": {
        "execution": {
          "iopub.status.busy": "2023-11-26T18:34:47.427367Z",
          "iopub.execute_input": "2023-11-26T18:34:47.427868Z",
          "iopub.status.idle": "2023-11-26T18:34:47.436479Z",
          "shell.execute_reply.started": "2023-11-26T18:34:47.427821Z",
          "shell.execute_reply": "2023-11-26T18:34:47.435493Z"
        },
        "trusted": true,
        "id": "glPDhx2t8kCq"
      },
      "execution_count": null,
      "outputs": []
    }
  ]
}